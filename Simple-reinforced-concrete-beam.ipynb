{
 "cells": [
  {
   "cell_type": "markdown",
   "id": "456d00c7",
   "metadata": {
    "collapsed": false,
    "jupyter": {
     "outputs_hidden": false
    }
   },
   "source": [
    "# Example Design Note for Jupyter"
   ]
  },
  {
   "cell_type": "markdown",
   "id": "474c1e3d",
   "metadata": {
    "collapsed": false,
    "jupyter": {
     "outputs_hidden": false
    }
   },
   "source": [
    "# 1. General\n",
    "\n",
    "## 1.1 Project information\n",
    "**Project number:**  \n",
    "**Project name:**  \n",
    "**Date:**  \n",
    "**Engineer:**  \n",
    "**Checker:**  "
   ]
  },
  {
   "cell_type": "markdown",
   "id": "cdfb2f28",
   "metadata": {
    "collapsed": false,
    "jupyter": {
     "outputs_hidden": false
    }
   },
   "source": [
    "## 1.2 Purpose of calculations\n",
    "\n",
    "Describe the particular use to which the design note is put on this occasion."
   ]
  },
  {
   "cell_type": "markdown",
   "id": "38c6b703",
   "metadata": {
    "collapsed": false,
    "jupyter": {
     "outputs_hidden": false
    }
   },
   "source": [
    "## 1.3 Design note\n",
    "**Name of design note:** Simple reinforced concrete beam  \n",
    "**Version:** PA  \n",
    "**Last modified:** 2023-07-28  \n",
    "**Custodian:** MPJ Grégoire, ing."
   ]
  },
  {
   "cell_type": "markdown",
   "id": "1a633750",
   "metadata": {
    "collapsed": false,
    "jupyter": {
     "outputs_hidden": false
    }
   },
   "source": [
    "This design note checks ultimate and serviceability limit states for a single span reinforced concrete beam loaded with a live load at the midspan."
   ]
  },
  {
   "cell_type": "markdown",
   "id": "10a869a9",
   "metadata": {
    "collapsed": false,
    "jupyter": {
     "outputs_hidden": false
    }
   },
   "source": [
    "## 1.4 Citations\n",
    "\n",
    "Citations such as §, Fig. and Tab. are to the Canadian Highway Bridge Design Code or to its Commentary, unless noted otherwise."
   ]
  },
  {
   "cell_type": "markdown",
   "id": "e33d8c88-d277-4868-b6cc-89419f9c6335",
   "metadata": {},
   "source": [
    "## 1.5 References"
   ]
  },
  {
   "cell_type": "markdown",
   "id": "525d2e22",
   "metadata": {
    "collapsed": false,
    "jupyter": {
     "outputs_hidden": false
    }
   },
   "source": [
    "### 1.5.1 Normative\n",
    "- CAN/CSA S6:19, Canadian Highway Bridge Design Code, CSA, 2019\n",
    "- CAN/CSA S6.1:19, Commentary on the Canadian Highway Bridge Design Code, CSA, 2019"
   ]
  },
  {
   "cell_type": "markdown",
   "id": "829236c2",
   "metadata": {
    "collapsed": false,
    "jupyter": {
     "outputs_hidden": false
    }
   },
   "source": [
    "### 1.5.2 Informative\n",
    "- Manuel de conception des structures, MTQ"
   ]
  },
  {
   "cell_type": "markdown",
   "id": "b48bc519",
   "metadata": {
    "collapsed": false,
    "jupyter": {
     "outputs_hidden": false
    }
   },
   "source": [
    "### 1.5.3 Drawings\n",
    "- none"
   ]
  },
  {
   "cell_type": "markdown",
   "id": "c556fd73",
   "metadata": {
    "collapsed": false,
    "jupyter": {
     "outputs_hidden": false
    }
   },
   "source": [
    "## 1.6 Assumptions\n",
    "1. Plane sections remain plane"
   ]
  },
  {
   "cell_type": "markdown",
   "id": "e74d83ef",
   "metadata": {
    "collapsed": false,
    "jupyter": {
     "outputs_hidden": false
    }
   },
   "source": [
    "## 1.7 To do:\n",
    "- Add comparison with M_r\n",
    "- Add check for over-reinforcement\n",
    "- Add ULS check for shear\n",
    "- Add SLS check for cracking\n",
    "- Add development length for longitudinal bars, effective A_s\n",
    "- Maybe add SLS check for deflection\n",
    "- Fix calculation for deflection under point load\n",
    "- Add more citations maybe"
   ]
  },
  {
   "cell_type": "markdown",
   "id": "53da5901",
   "metadata": {
    "collapsed": false,
    "jupyter": {
     "outputs_hidden": false
    }
   },
   "source": [
    "**This design note is not a substitute for engineering judgement.**"
   ]
  },
  {
   "cell_type": "markdown",
   "id": "5e065956",
   "metadata": {
    "collapsed": false,
    "jupyter": {
     "outputs_hidden": false
    }
   },
   "source": [
    "# 2. Initialisation"
   ]
  },
  {
   "cell_type": "code",
   "execution_count": 1,
   "id": "f4384825",
   "metadata": {
    "collapsed": false,
    "jupyter": {
     "outputs_hidden": false
    }
   },
   "outputs": [],
   "source": [
    "from math import sqrt, pi\n",
    "import numpy as np\n",
    "\n",
    "import matplotlib.pyplot as plt\n",
    "\n",
    "import pandas as pd\n",
    "pd.options.display.float_format = '{:\" \" .2f}'.format  # TODO spaces not commas\n",
    "\n",
    "import pint\n",
    "ureg = pint.UnitRegistry()\n",
    "ureg.default_format = '~'\n",
    "Q_ = ureg.Quantity\n",
    "ureg.setup_matplotlib(True)\n",
    "\n",
    "import pint_pandas\n",
    "pint_pandas.PintType.ureg = ureg"
   ]
  },
  {
   "cell_type": "code",
   "execution_count": 2,
   "id": "a907cf44",
   "metadata": {
    "collapsed": false,
    "jupyter": {
     "outputs_hidden": false
    }
   },
   "outputs": [
    {
     "name": "stdout",
     "output_type": "stream",
     "text": [
      "Python implementation: CPython\n",
      "Python version       : 3.11.2\n",
      "IPython version      : 8.14.0\n",
      "\n",
      "Compiler    : GCC 12.2.0\n",
      "OS          : Linux\n",
      "Release     : 6.1.0-10-amd64\n",
      "Machine     : x86_64\n",
      "Processor   : \n",
      "CPU cores   : 2\n",
      "Architecture: 64bit\n",
      "\n",
      "pint_pandas: 0.4\n",
      "pint       : 0.19.2\n",
      "matplotlib : 3.6.3\n",
      "numpy      : 1.24.2\n",
      "pandas     : 1.5.3\n",
      "\n"
     ]
    }
   ],
   "source": [
    "%load_ext watermark\n",
    "%watermark -i -m -v -iv"
   ]
  },
  {
   "cell_type": "markdown",
   "id": "4430211e",
   "metadata": {
    "collapsed": false,
    "jupyter": {
     "outputs_hidden": false
    }
   },
   "source": [
    "# 3. Inputs\n",
    "## 3.1 Geometry\n",
    "\n",
    "![Elevation](images/beam-supported-1a.png)\n",
    "![Cross-section](images/reinforced-concrete-beam-1a.png)"
   ]
  },
  {
   "cell_type": "code",
   "execution_count": 3,
   "id": "448e28f2",
   "metadata": {
    "collapsed": false,
    "jupyter": {
     "outputs_hidden": false
    }
   },
   "outputs": [],
   "source": [
    "L = Q_(8, 'm')\n",
    "h = Q_(500, 'mm')\n",
    "b = Q_(400, 'mm')"
   ]
  },
  {
   "cell_type": "markdown",
   "id": "99b1fcd0",
   "metadata": {
    "collapsed": false,
    "jupyter": {
     "outputs_hidden": false
    }
   },
   "source": [
    "## 3.2 Materials"
   ]
  },
  {
   "cell_type": "markdown",
   "id": "27bbbeb8",
   "metadata": {
    "collapsed": false,
    "jupyter": {
     "outputs_hidden": false
    }
   },
   "source": [
    "### 3.2.1 Concrete"
   ]
  },
  {
   "cell_type": "code",
   "execution_count": 4,
   "id": "ec134b53",
   "metadata": {
    "collapsed": false,
    "jupyter": {
     "outputs_hidden": false
    }
   },
   "outputs": [],
   "source": [
    "fprime_c = Q_(35, 'MPa')\n",
    "ρ_c = Q_(24, 'kN/m^3')\n",
    "γ_c = Q_(2300, 'kg/m^3')"
   ]
  },
  {
   "cell_type": "markdown",
   "id": "5bd91cb4",
   "metadata": {
    "collapsed": false,
    "jupyter": {
     "outputs_hidden": false
    }
   },
   "source": [
    "### 3.2.2 Reinforcing"
   ]
  },
  {
   "cell_type": "code",
   "execution_count": 5,
   "id": "a3ec625d",
   "metadata": {
    "collapsed": false,
    "jupyter": {
     "outputs_hidden": false
    }
   },
   "outputs": [],
   "source": [
    "f_y = Q_(400, 'MPa')\n",
    "E_s = Q_(200_000, 'MPa')\n",
    "bar_size_long = '20M'\n",
    "bar_num_long = 3\n",
    "bar_size_trans = '15M'\n",
    "s_trans = Q_(200, 'mm')\n",
    "cover = Q_(50, 'mm')"
   ]
  },
  {
   "cell_type": "markdown",
   "id": "48c8cfb5",
   "metadata": {
    "collapsed": false,
    "jupyter": {
     "outputs_hidden": false
    }
   },
   "source": [
    "## 3.3 Loads\n",
    "Live load applied as a point load at midspan"
   ]
  },
  {
   "cell_type": "code",
   "execution_count": 6,
   "id": "35c5761c",
   "metadata": {
    "collapsed": false,
    "jupyter": {
     "outputs_hidden": false
    }
   },
   "outputs": [],
   "source": [
    "P_LL = Q_(5, 'kN')"
   ]
  },
  {
   "cell_type": "markdown",
   "id": "ef7f474f",
   "metadata": {
    "collapsed": false,
    "jupyter": {
     "outputs_hidden": false
    }
   },
   "source": [
    "# 4. Basic Properties"
   ]
  },
  {
   "cell_type": "markdown",
   "id": "241eeb2f",
   "metadata": {
    "collapsed": false,
    "jupyter": {
     "outputs_hidden": false
    }
   },
   "source": [
    "## 4.1 Geometric"
   ]
  },
  {
   "cell_type": "code",
   "execution_count": 7,
   "id": "8d266825",
   "metadata": {
    "collapsed": false,
    "jupyter": {
     "outputs_hidden": false
    }
   },
   "outputs": [
    {
     "name": "stdout",
     "output_type": "stream",
     "text": [
      "Moment of inertia, I=<Quantity(4.16666667e+09, 'millimeter ** 4')>\n"
     ]
    }
   ],
   "source": [
    "I = 1/12 * h**3 * b ; I.to('mm^4')\n",
    "print(f'Moment of inertia, {I=}')"
   ]
  },
  {
   "cell_type": "markdown",
   "id": "2c8f97dd",
   "metadata": {
    "collapsed": false,
    "jupyter": {
     "outputs_hidden": false
    }
   },
   "source": [
    "## 4.2 Material\n",
    "### 4.2.1 Concrete"
   ]
  },
  {
   "cell_type": "code",
   "execution_count": 8,
   "id": "df492c03",
   "metadata": {
    "collapsed": false,
    "jupyter": {
     "outputs_hidden": false
    }
   },
   "outputs": [
    {
     "name": "stdout",
     "output_type": "stream",
     "text": [
      "Cracking moment, M_cr=<Quantity(39.4405319, 'kilonewton * meter')>\n",
      "α_1=0.7975 S6:19 §8.8.3 \n",
      "β_1=0.8825 S6:19 §8.8.3 \n"
     ]
    }
   ],
   "source": [
    "fprime_c.ito('MPa')\n",
    "E_c = (3300 * sqrt(fprime_c.magnitude) + 6900 ) * ( γ_c / Q_(2300, 'kg/m^3') ) * Q_(1, 'MPa') # S6:19 §8.4.1.5.3\n",
    "f_cr = 0.4 * sqrt(fprime_c.magnitude) * Q_(1, 'MPa') # S6:19 §8.4.1.8.1\n",
    "M_cr = f_cr * I / ( h / 2 )\n",
    "M_cr.ito('kN*m') ; print(f'Cracking moment, {M_cr=}')\n",
    "α_1 = max(0.85 - 0.0015 * fprime_c.magnitude, 0.67)\n",
    "β_1 = max(0.97 - 0.0025 * fprime_c.magnitude, 0.67)\n",
    "n = E_s / E_c\n",
    "print(f'{α_1=} S6:19 §8.8.3 ')\n",
    "print(f'{β_1=} S6:19 §8.8.3 ')\n",
    "# print(f'{n=} S6:19 8.6 ')"
   ]
  },
  {
   "cell_type": "markdown",
   "id": "507d2e50-e1d9-47c7-9bc1-63e193cdc1c6",
   "metadata": {
    "collapsed": false,
    "jupyter": {
     "outputs_hidden": false
    }
   },
   "source": [
    "### 4.2.2 Reinforcing"
   ]
  },
  {
   "cell_type": "code",
   "execution_count": 9,
   "id": "dcdac638-5cb9-4dd4-8164-9b54df835321",
   "metadata": {},
   "outputs": [
    {
     "name": "stdout",
     "output_type": "stream",
     "text": [
      "Reinforcing bar properties \n",
      "    Bar   d_b   A_b\n",
      "0  10M  11.3   100\n",
      "1  15M  16.0   200\n",
      "2  20M  19.5   300\n",
      "3  25M  25.2   500\n",
      "4  30M  29.9   700\n",
      "5  35M  35.7  1000\n",
      "6  45M  43.7  1500\n",
      "7  55M  56.4  2500\n",
      "A_s=<Quantity(900, 'millimeter ** 2')>\n",
      "d_b=<Quantity(19.5, 'millimeter')>\n",
      "d_b_trans=<Quantity(16.0, 'millimeter')>\n"
     ]
    }
   ],
   "source": [
    "reinforcing = pd.DataFrame(\n",
    "{\n",
    "    \"Bar\": pd.Series(['10M', '15M', '20M', '25M', '30M', '35M', '45M', '55M']),\n",
    "    \"d_b\": pd.Series([11.3, 16.0, 19.5, 25.2, 29.9, 35.7, 43.7, 56.4], dtype=\"pint[mm]\"),\n",
    "    \"A_b\": pd.Series([100, 200, 300, 500, 700, 1000, 1500, 2500], dtype=\"pint[mm^2]\")\n",
    "})\n",
    "\n",
    "print(f'Reinforcing bar properties \\n {reinforcing}')\n",
    "\n",
    "#print(reinforcing.at[2, 'A_b'])\n",
    "#print(reinforcing.loc[reinforcing['Bar'] == '20M', 'A_b'].item())\n",
    "#print(reinforcing.loc['Bar' == '20M])\n",
    "\n",
    "A_s = bar_num_long * reinforcing.loc[reinforcing['Bar'] == bar_size_long, 'A_b'].item()\n",
    "print(f'{A_s=}')\n",
    "\n",
    "d_b = reinforcing.loc[reinforcing['Bar'] == bar_size_long, 'd_b'].item()\n",
    "print(f'{d_b=}')\n",
    "\n",
    "d_b_trans = reinforcing.loc[reinforcing['Bar'] == bar_size_trans, 'd_b'].item()\n",
    "print(f'{d_b_trans=}')\n",
    "\n",
    "d = h - cover - d_b_trans - d_b / 2"
   ]
  },
  {
   "cell_type": "markdown",
   "id": "d8eaa05f-e251-4de9-8369-75b111421015",
   "metadata": {},
   "source": [
    "## 4.3 Loads\n",
    "\n",
    "Self-weight"
   ]
  },
  {
   "cell_type": "code",
   "execution_count": 10,
   "id": "201287f6-4b07-428f-b6d3-0900d0318b17",
   "metadata": {},
   "outputs": [],
   "source": [
    "w_SW = ρ_c * b * h"
   ]
  },
  {
   "cell_type": "markdown",
   "id": "1d618a45",
   "metadata": {
    "collapsed": false,
    "jupyter": {
     "outputs_hidden": false
    }
   },
   "source": [
    "# 5. Analysis\n",
    "\n",
    "![Simple beam](images/beam-simple-1a.png)\n",
    "\n",
    "TODO Move x = 0 to left support"
   ]
  },
  {
   "cell_type": "markdown",
   "id": "fc210c0a",
   "metadata": {
    "collapsed": false,
    "jupyter": {
     "outputs_hidden": false
    }
   },
   "source": [
    "## 5.1 Load patterns"
   ]
  },
  {
   "cell_type": "markdown",
   "id": "8484c641",
   "metadata": {
    "collapsed": false,
    "jupyter": {
     "outputs_hidden": false
    }
   },
   "source": [
    "### 5.1.1 UDL on entire span\n",
    "\n",
    "Add image"
   ]
  },
  {
   "cell_type": "code",
   "execution_count": 11,
   "id": "3679f69a",
   "metadata": {
    "collapsed": false,
    "jupyter": {
     "outputs_hidden": false
    }
   },
   "outputs": [],
   "source": [
    "def V_1(x, w):\n",
    "    \"\"\"Return the shear at point x when loaded uniformly by UDL w.\"\"\"\n",
    "    Vee =  w * ( L / 2 - x )\n",
    "    return Vee\n",
    "\n",
    "def M_1(x, w):\n",
    "    \"\"\"Return the bending moment at point x when loaded uniformly by UDL w.\"\"\"\n",
    "    Emm = w * x / 2 * ( L - x )\n",
    "    return Emm\n",
    "\n",
    "def Δ_1(x, w):\n",
    "    \"\"\"Return the deflection down at point x when loaded uniformly by UDL w.\"\"\"\n",
    "    Delta = w * x / ( 24 * E_c * I ) * ( L**3 - 2 * L * x**2 + x**3 )\n",
    "    return Delta"
   ]
  },
  {
   "cell_type": "code",
   "execution_count": 12,
   "id": "0e5bccf8",
   "metadata": {
    "collapsed": false,
    "jupyter": {
     "outputs_hidden": false
    }
   },
   "outputs": [],
   "source": [
    "x1 = np.linspace(0, L.magnitude, 100)\n",
    "x11 = x1 * L / L.magnitude"
   ]
  },
  {
   "cell_type": "code",
   "execution_count": 13,
   "id": "0f90192c-7c6f-4cf5-8bc1-07d0b71eb9ad",
   "metadata": {
    "collapsed": false,
    "jupyter": {
     "outputs_hidden": false
    }
   },
   "outputs": [
    {
     "data": {
      "text/plain": [
       "<function matplotlib.pyplot.show(close=None, block=None)>"
      ]
     },
     "execution_count": 13,
     "metadata": {},
     "output_type": "execute_result"
    },
    {
     "data": {
      "image/png": "[encoded data removed]",
      "text/plain": [
       "<Figure size 640x480 with 1 Axes>"
      ]
     },
     "metadata": {},
     "output_type": "display_data"
    }
   ],
   "source": [
    "fig, ax = plt.subplots()\n",
    "\n",
    "ax.plot(x11, V_1(x11, Q_(1, 'kN/m')).magnitude, label='V')\n",
    "ax.plot(x11, M_1(x11, Q_(1, 'kN/m')).magnitude, label='M')\n",
    "plt.axhline(y = 0, color = 'k', lw = 0.5)\n",
    "\n",
    "plt.xlabel('x / m')\n",
    "ax.xaxis.set_units(ureg['m'])\n",
    "plt.ylabel('V, M')\n",
    "ax.legend()\n",
    "\n",
    "plt.title('Shear and moment from unit UDL')\n",
    "plt.savefig('ein-images/shear-moment-1.png')\n",
    "plt.show"
   ]
  },
  {
   "cell_type": "markdown",
   "id": "f606c7a5",
   "metadata": {
    "collapsed": false,
    "jupyter": {
     "outputs_hidden": false
    }
   },
   "source": [
    "### 5.1.2 Point load at midspan\n",
    "\n",
    "Add image"
   ]
  },
  {
   "cell_type": "code",
   "execution_count": 14,
   "id": "7fdaecbf",
   "metadata": {
    "collapsed": false,
    "jupyter": {
     "outputs_hidden": false
    }
   },
   "outputs": [],
   "source": [
    "def V_2(x, P):\n",
    "    \"\"\"Return the shear at point x when loaded by point load P at midspan.\"\"\"\n",
    "    if isinstance(x.magnitude, np.ndarray):\n",
    "        Vee = np.where( x < L / 2, P / 2, -P / 2 )\n",
    "    else:\n",
    "        if x < L / 2:\n",
    "            Vee = P / 2\n",
    "        elif x > L / 2:\n",
    "            Vee = -P / 2\n",
    "    return Vee\n",
    "\n",
    "def M_2(x, P):\n",
    "    \"\"\"Return the bending moment at point x when loaded by point load P at midspan.\"\"\"\n",
    "    if isinstance(x.magnitude, np.ndarray):\n",
    "        Emm = np.where( x < L / 2, P / 2 * x, P / 2 * ( L - x ) )\n",
    "    else:\n",
    "        if x < L / 2:\n",
    "            Emm = P / 2 * x\n",
    "        elif x > L / 2:\n",
    "            Emm = P / 2 * ( L - x )\n",
    "    return Emm\n",
    "\n",
    "def Δ_2(x, P):\n",
    "    \"\"\"Return the deflection down at point x when loaded by point load P at midspan.\"\"\"\n",
    "    if isinstance(x.magnitude, np.ndarray):\n",
    "        Delta = np.where( x < L / 2, P * x / ( 48 * E_c * I ) * ( 3 * L**2 - 4 * x**2 ),\n",
    "                                     P * ( L - x ) / ( 48 * E_c * I ) * ( 3 * L**2 - 4 * (L - x )**2 ) )\n",
    "    else:\n",
    "        if x < L / 2:\n",
    "            Delta = P * x / ( 48 * E_c * I ) * ( 3 * L**2 - 4 * x**2 )\n",
    "        elif x > L / 2:\n",
    "            Delta = P * ( L - x ) / ( 48 * E_c * I ) * ( 3 * L**2 - 4 * (L - x )**2 )\n",
    "    return Delta"
   ]
  },
  {
   "cell_type": "code",
   "execution_count": 15,
   "id": "b64317cb",
   "metadata": {
    "collapsed": false,
    "jupyter": {
     "outputs_hidden": false
    }
   },
   "outputs": [
    {
     "data": {
      "text/plain": [
       "<function matplotlib.pyplot.show(close=None, block=None)>"
      ]
     },
     "execution_count": 15,
     "metadata": {},
     "output_type": "execute_result"
    },
    {
     "data": {
      "image/png": "[encoded data removed]",
      "text/plain": [
       "<Figure size 640x480 with 1 Axes>"
      ]
     },
     "metadata": {},
     "output_type": "display_data"
    }
   ],
   "source": [
    "fig, ax = plt.subplots()\n",
    "\n",
    "ax.plot(x11, V_2(x11, Q_(1, 'kN')).magnitude, label='V')\n",
    "ax.plot(x11, M_2(x11, Q_(1, 'kN')).magnitude, label='M')\n",
    "plt.axhline(y = 0, color = 'k', lw = 0.5)\n",
    "\n",
    "plt.xlabel('x / m')\n",
    "ax.xaxis.set_units(ureg['m'])\n",
    "plt.ylabel('V, M')\n",
    "ax.legend()\n",
    "\n",
    "plt.title('Shear and moment from unit midspan point load')\n",
    "plt.savefig('ein-images/shear-moment-2.png')\n",
    "plt.show"
   ]
  },
  {
   "cell_type": "markdown",
   "id": "c36d8d94",
   "metadata": {
    "collapsed": false,
    "jupyter": {
     "outputs_hidden": false
    }
   },
   "source": [
    "## 5.2 Applied loads"
   ]
  },
  {
   "cell_type": "markdown",
   "id": "fbdf203d",
   "metadata": {
    "collapsed": false,
    "jupyter": {
     "outputs_hidden": false
    }
   },
   "source": [
    "### 5.2.1 Self-weight"
   ]
  },
  {
   "cell_type": "code",
   "execution_count": 16,
   "id": "f647dd03",
   "metadata": {
    "collapsed": false,
    "jupyter": {
     "outputs_hidden": false
    }
   },
   "outputs": [],
   "source": [
    "def V_SW(x):\n",
    "    \"\"\"Return the shear at point x from self-weight.\"\"\"\n",
    "    return V_1(x, w_SW)\n",
    "\n",
    "def M_SW(x):\n",
    "    \"\"\"Return the shear at point x from self-weight.\"\"\"\n",
    "    return M_1(x, w_SW)"
   ]
  },
  {
   "cell_type": "markdown",
   "id": "fa2fa156",
   "metadata": {
    "collapsed": false,
    "jupyter": {
     "outputs_hidden": false
    }
   },
   "source": [
    "### 5.2.2 Live point load"
   ]
  },
  {
   "cell_type": "code",
   "execution_count": 17,
   "id": "912ef5d0",
   "metadata": {
    "collapsed": false,
    "jupyter": {
     "outputs_hidden": false
    }
   },
   "outputs": [],
   "source": [
    "def V_LL(x):\n",
    "    \"\"\"Return the shear at point x from point live load.\"\"\"\n",
    "    return V_2(x, P_LL)\n",
    "\n",
    "def M_LL(x):\n",
    "    \"\"\"Return the shear at point x from point live load.\"\"\"\n",
    "    return M_2(x, P_LL)"
   ]
  },
  {
   "cell_type": "markdown",
   "id": "c45b69ec",
   "metadata": {
    "collapsed": false,
    "jupyter": {
     "outputs_hidden": false
    }
   },
   "source": [
    "## 5.3 Load effects"
   ]
  },
  {
   "cell_type": "code",
   "execution_count": 18,
   "id": "42aec3e7",
   "metadata": {
    "collapsed": false,
    "jupyter": {
     "outputs_hidden": false
    }
   },
   "outputs": [
    {
     "data": {
      "text/plain": [
       "<function matplotlib.pyplot.show(close=None, block=None)>"
      ]
     },
     "execution_count": 18,
     "metadata": {},
     "output_type": "execute_result"
    },
    {
     "data": {
      "image/png": "[encoded data removed]",
      "text/plain": [
       "<Figure size 640x480 with 1 Axes>"
      ]
     },
     "metadata": {},
     "output_type": "display_data"
    }
   ],
   "source": [
    "fig, ax = plt.subplots()\n",
    "\n",
    "ax.plot(x11, V_SW(x11), label='Self-weight')\n",
    "ax.plot(x11, V_LL(x11), label='Live load')\n",
    "plt.axhline(y = 0, color = 'k', lw = 0.5)\n",
    "\n",
    "plt.xlabel('x / m')\n",
    "ax.xaxis.set_units(ureg['m'])\n",
    "plt.ylabel('V / kN')\n",
    "ax.yaxis.set_units(ureg['kN'])\n",
    "ax.legend()\n",
    "\n",
    "plt.title('Applied shear force')\n",
    "plt.savefig('ein-images/shear-1.png')\n",
    "plt.show"
   ]
  },
  {
   "cell_type": "code",
   "execution_count": 19,
   "id": "dce78937-330f-428d-8881-93fe08b980fc",
   "metadata": {
    "collapsed": false,
    "jupyter": {
     "outputs_hidden": false
    }
   },
   "outputs": [
    {
     "data": {
      "text/plain": [
       "<function matplotlib.pyplot.show(close=None, block=None)>"
      ]
     },
     "execution_count": 19,
     "metadata": {},
     "output_type": "execute_result"
    },
    {
     "data": {
      "image/png": "[encoded data removed]",
      "text/plain": [
       "<Figure size 640x480 with 1 Axes>"
      ]
     },
     "metadata": {},
     "output_type": "display_data"
    }
   ],
   "source": [
    "fig, ax = plt.subplots()\n",
    "\n",
    "ax.plot(x11, M_SW(x11), label='Self-weight')\n",
    "ax.plot(x11, M_LL(x11), label='Live load')\n",
    "\n",
    "plt.xlabel('x / m')\n",
    "ax.xaxis.set_units(ureg['m'])\n",
    "plt.ylabel('M / kN*m')\n",
    "ax.yaxis.set_units(ureg['kN*m'])\n",
    "ax.legend()\n",
    "\n",
    "plt.title('Applied moment')\n",
    "plt.savefig('ein-images/moment-1.png')\n",
    "plt.show"
   ]
  },
  {
   "cell_type": "markdown",
   "id": "2128e85b",
   "metadata": {
    "collapsed": false,
    "jupyter": {
     "outputs_hidden": false
    }
   },
   "source": [
    "# 6. Load Combinations"
   ]
  },
  {
   "cell_type": "markdown",
   "id": "67d481c4",
   "metadata": {
    "collapsed": false,
    "jupyter": {
     "outputs_hidden": false
    }
   },
   "source": [
    "## 6.1 Load factors"
   ]
  },
  {
   "cell_type": "code",
   "execution_count": 20,
   "id": "0ae11794",
   "metadata": {
    "collapsed": false,
    "jupyter": {
     "outputs_hidden": false
    }
   },
   "outputs": [],
   "source": [
    "α_D1_max = 1.10                 # S6:19 Tab. 3.3\n",
    "α_D1_min = 0.95\n",
    "α_D2_max = 1.20\n",
    "α_D2_min = 0.90\n",
    "α_D3_max = 1.25\n",
    "α_D3_min = 0.80\n",
    "α_D_ULS9 = 1.35                 # S6:19 Tab. 3.1\n",
    "\n",
    "α_L_ULS1 = 1.70                 # S6:19 Tab. 3.2\n",
    "α_L_SLS1 = 0.90                 # S6:19 Tab. 3.1"
   ]
  },
  {
   "cell_type": "markdown",
   "id": "3dd24973",
   "metadata": {
    "collapsed": false,
    "jupyter": {
     "outputs_hidden": false
    }
   },
   "source": [
    "## 6.2 Ultimate limit states"
   ]
  },
  {
   "cell_type": "code",
   "execution_count": 21,
   "id": "ef65954f",
   "metadata": {
    "collapsed": false,
    "jupyter": {
     "outputs_hidden": false
    }
   },
   "outputs": [],
   "source": [
    "def V_f_ULS1a(x):\n",
    "    \"\"\"Return shear at ULS1 with maximum load factors.\"\"\"\n",
    "    return α_D2_max * V_SW(x) + α_L_ULS1 * V_LL(x)\n",
    "\n",
    "def M_f_ULS1a(x):\n",
    "    \"\"\"Return moment at ULS1 with maximum load factors.\"\"\"\n",
    "    return α_D2_max * M_SW(x) + α_L_ULS1 * M_LL(x)\n",
    "\n",
    "def V_f_ULS9(x):\n",
    "    \"\"\"Return shear at ULS9 with maximum load factors.\"\"\"\n",
    "    return α_D_ULS9 * V_SW(x)\n",
    "\n",
    "def M_f_ULS9(x):\n",
    "    \"\"\"Return moment at ULS9 with maximum load factors.\"\"\"\n",
    "    return α_D_ULS9 * M_SW(x)"
   ]
  },
  {
   "cell_type": "code",
   "execution_count": 22,
   "id": "2753eab5",
   "metadata": {
    "collapsed": false,
    "jupyter": {
     "outputs_hidden": false
    }
   },
   "outputs": [],
   "source": [
    "def V_f_maxp(x):\n",
    "    \"\"\"Return greatest positive shear for all ULS combinations.\"\"\"\n",
    "    if isinstance(x.magnitude, np.ndarray):\n",
    "        z = np.zeros(len(x)) * Q_(0, 'kN')\n",
    "        Vf = V_f_ULS1a(x).to('kN'), V_f_ULS9(x).to('kN'), z\n",
    "        return np.amax(Vf, axis=0) * Q_(1, 'kN')\n",
    "    else:\n",
    "        return max(V_f_ULS1a(x), V_f_ULS9(x), Q_(0, 'kN'))\n",
    "    \n",
    "def M_f_maxp(x):\n",
    "    \"\"\"Return greatest positive moment for all ULS combinations.\"\"\"\n",
    "    if isinstance(x.magnitude, np.ndarray):\n",
    "        z = np.zeros(len(x)) * Q_(0, 'kN*m')\n",
    "        Mf = M_f_ULS1a(x).to('kN*m'), M_f_ULS9(x).to('kN*m'), z\n",
    "        return np.amax(Mf, axis=0)  * Q_(1, 'kN*m')\n",
    "    else:\n",
    "        return max(M_f_ULS1a(x), M_f_ULS9(x), Q_(0, 'kN*m'))\n",
    "    \n",
    "def V_f_maxn(x):\n",
    "    \"\"\"Return greatest negative shear for all ULS combinations.\"\"\"\n",
    "    if isinstance(x.magnitude, np.ndarray):\n",
    "        z = np.zeros(len(x)) * Q_(0, 'kN')\n",
    "        Vf = V_f_ULS1a(x).to('kN'), V_f_ULS9(x).to('kN'), z\n",
    "        return np.amin(Vf, axis=0) * Q_(1, 'kN')\n",
    "    else:\n",
    "        return min(V_f_ULS1a(x), V_f_ULS9(x), Q_(0, 'kN'))\n",
    "    \n",
    "def M_f_maxn(x):\n",
    "    \"\"\"Return greatest negative moment for all ULS combinations.\"\"\"\n",
    "    if isinstance(x.magnitude, np.ndarray):\n",
    "        z = np.zeros(len(x)) * Q_(0, 'kN*m')\n",
    "        Mf = M_f_ULS1a(x).to('kN*m'), M_f_ULS9(x).to('kN*m'), z\n",
    "        return np.amin(Mf, axis=0) *  Q_(1, 'kN*m')\n",
    "    else:\n",
    "        return min(M_f_ULS1a(x), M_f_ULS9(x), Q_(0, 'kN*m'))"
   ]
  },
  {
   "cell_type": "code",
   "execution_count": 23,
   "id": "b384b416-0118-469b-a42f-2f20fdc86180",
   "metadata": {
    "collapsed": false,
    "jupyter": {
     "outputs_hidden": false
    }
   },
   "outputs": [
    {
     "name": "stderr",
     "output_type": "stream",
     "text": [
      "/usr/lib/python3/dist-packages/numpy/core/fromnumeric.py:86: UnitStrippedWarning: The unit of the quantity is stripped when downcasting to ndarray.\n",
      "  return ufunc.reduce(obj, axis, dtype, out, **passkwargs)\n"
     ]
    },
    {
     "data": {
      "text/plain": [
       "<function matplotlib.pyplot.show(close=None, block=None)>"
      ]
     },
     "execution_count": 23,
     "metadata": {},
     "output_type": "execute_result"
    },
    {
     "data": {
      "image/png": "[encoded data removed]",
      "text/plain": [
       "<Figure size 640x480 with 1 Axes>"
      ]
     },
     "metadata": {},
     "output_type": "display_data"
    }
   ],
   "source": [
    "fig, ax = plt.subplots()\n",
    "\n",
    "ax.plot(x11, V_f_ULS1a(x11), label='ULS1a')\n",
    "ax.plot(x11, V_f_ULS9(x11), label='ULS9')\n",
    "ax.plot(x11, V_f_maxp(x11), label='Max +ve')\n",
    "ax.plot(x11, V_f_maxn(x11), label='Max -ve')\n",
    "plt.axhline(y = Q_(0, 'kN'), color = 'k', lw = 0.5)\n",
    "\n",
    "plt.xlabel('x / m')\n",
    "ax.xaxis.set_units(ureg['m'])\n",
    "plt.ylabel('V / kN')\n",
    "ax.yaxis.set_units(ureg['kN'])\n",
    "ax.legend()\n",
    "\n",
    "plt.title('Ultimate shear force')\n",
    "plt.savefig('ein-images/shear-ULS-1.png')\n",
    "plt.show"
   ]
  },
  {
   "cell_type": "code",
   "execution_count": 24,
   "id": "1dc7f08c-a5d1-435a-8e57-567418cdeb4b",
   "metadata": {
    "collapsed": false,
    "jupyter": {
     "outputs_hidden": false
    }
   },
   "outputs": [
    {
     "data": {
      "text/plain": [
       "<function matplotlib.pyplot.show(close=None, block=None)>"
      ]
     },
     "execution_count": 24,
     "metadata": {},
     "output_type": "execute_result"
    },
    {
     "data": {
      "image/png": "[encoded data removed]",
      "text/plain": [
       "<Figure size 640x480 with 1 Axes>"
      ]
     },
     "metadata": {},
     "output_type": "display_data"
    }
   ],
   "source": [
    "fig, ax = plt.subplots()\n",
    "\n",
    "ax.plot(x11, M_f_ULS1a(x11), label='ULS1a')\n",
    "ax.plot(x11, M_f_ULS9(x11), label='ULS9')\n",
    "ax.plot(x11, M_f_maxp(x11), label='Max +ve')\n",
    "ax.plot(x11, M_f_maxn(x11), label='Max -ve')\n",
    "\n",
    "plt.xlabel('x / m')\n",
    "ax.xaxis.set_units(ureg['m'])\n",
    "plt.ylabel('M / kN*m')\n",
    "ax.yaxis.set_units(ureg['kN*m'])\n",
    "ax.legend()\n",
    "\n",
    "plt.title('Ultimate moment')\n",
    "plt.savefig('ein-images/moment-ULS-1.png')\n",
    "plt.show"
   ]
  },
  {
   "cell_type": "markdown",
   "id": "3e53a717",
   "metadata": {
    "collapsed": false,
    "jupyter": {
     "outputs_hidden": false
    }
   },
   "source": [
    "## 6.3 Fatigue limit states"
   ]
  },
  {
   "cell_type": "markdown",
   "id": "ddd01fda",
   "metadata": {
    "collapsed": false,
    "jupyter": {
     "outputs_hidden": false
    }
   },
   "source": [
    "Not applicable"
   ]
  },
  {
   "cell_type": "markdown",
   "id": "c35d7ce7",
   "metadata": {
    "collapsed": false,
    "jupyter": {
     "outputs_hidden": false
    }
   },
   "source": [
    "## 6.4 Serviceability limit states"
   ]
  },
  {
   "cell_type": "code",
   "execution_count": 25,
   "id": "10b5fa17",
   "metadata": {
    "collapsed": false,
    "jupyter": {
     "outputs_hidden": false
    }
   },
   "outputs": [],
   "source": [
    "def M_s(x):\n",
    "    \"\"\"Return moment at ULS1 with maximum load factors.\"\"\"\n",
    "    return M_SW(x) + α_ULS1_L * M_LL(x)"
   ]
  },
  {
   "cell_type": "markdown",
   "id": "5117b6da",
   "metadata": {
    "collapsed": false,
    "jupyter": {
     "outputs_hidden": false
    }
   },
   "source": [
    "# 7. Ultimate Limit States Checks"
   ]
  },
  {
   "cell_type": "markdown",
   "id": "6ef828a4",
   "metadata": {
    "collapsed": false,
    "jupyter": {
     "outputs_hidden": false
    }
   },
   "source": [
    "## 7.1 Resistance factors"
   ]
  },
  {
   "cell_type": "code",
   "execution_count": 26,
   "id": "d7beeeef",
   "metadata": {
    "collapsed": false,
    "jupyter": {
     "outputs_hidden": false
    }
   },
   "outputs": [],
   "source": [
    "ϕ_c = 0.75                      # S6:19 Tab. 8.1\n",
    "ϕ_s = 0.90                      # Greek phi symbol"
   ]
  },
  {
   "cell_type": "markdown",
   "id": "3bd0c060",
   "metadata": {
    "collapsed": false,
    "jupyter": {
     "outputs_hidden": false
    }
   },
   "source": [
    "## 7.2 Bending moment"
   ]
  },
  {
   "cell_type": "code",
   "execution_count": 27,
   "id": "436d5c36",
   "metadata": {
    "collapsed": false,
    "jupyter": {
     "outputs_hidden": false
    }
   },
   "outputs": [
    {
     "name": "stdout",
     "output_type": "stream",
     "text": [
      "Moment resistance, M_r=<Quantity(131.188841, 'kilonewton * meter')>\n"
     ]
    }
   ],
   "source": [
    "a = ϕ_s * A_s * f_y / ( α_1 * ϕ_c * fprime_c * b )\n",
    "M_r = ϕ_s * A_s * f_y * ( d - a / 2 )\n",
    "M_r.ito('kN*m')\n",
    "print(f'Moment resistance, {M_r=}')"
   ]
  },
  {
   "cell_type": "code",
   "execution_count": 28,
   "id": "3d3a4990",
   "metadata": {
    "collapsed": false,
    "jupyter": {
     "outputs_hidden": false
    }
   },
   "outputs": [
    {
     "data": {
      "text/plain": [
       "<function matplotlib.pyplot.show(close=None, block=None)>"
      ]
     },
     "execution_count": 28,
     "metadata": {},
     "output_type": "execute_result"
    },
    {
     "data": {
      "image/png": "[encoded data removed]",
      "text/plain": [
       "<Figure size 640x480 with 1 Axes>"
      ]
     },
     "metadata": {},
     "output_type": "display_data"
    }
   ],
   "source": [
    "fig, ax = plt.subplots()\n",
    "\n",
    "ax.plot(x11, M_f_maxp(x11), label='M_f,+')\n",
    "ax.plot(x11, M_f_maxn(x11), label='M_f-')\n",
    "plt.axhline(y = M_r, color = 'g', lw = 0.5, label='M_r')\n",
    "\n",
    "plt.xlabel('x / m')\n",
    "ax.xaxis.set_units(ureg['m'])\n",
    "plt.ylabel('M / kN*m')\n",
    "ax.yaxis.set_units(ureg['kN*m'])\n",
    "ax.legend()\n",
    "\n",
    "plt.title('Ultimate moment and resistance')\n",
    "plt.savefig('ein-images/Mf-Mr-1.png')\n",
    "plt.show"
   ]
  },
  {
   "cell_type": "markdown",
   "id": "ad21ba07",
   "metadata": {
    "collapsed": false,
    "jupyter": {
     "outputs_hidden": false
    }
   },
   "source": [
    "## 7.3 Shear"
   ]
  },
  {
   "cell_type": "code",
   "execution_count": 29,
   "id": "7734f821",
   "metadata": {
    "collapsed": false,
    "jupyter": {
     "outputs_hidden": false
    }
   },
   "outputs": [],
   "source": [
    "d_v = min\n",
    "\n"
   ]
  },
  {
   "cell_type": "code",
   "execution_count": 30,
   "id": "05f52b7b",
   "metadata": {
    "collapsed": false,
    "jupyter": {
     "outputs_hidden": false
    }
   },
   "outputs": [
    {
     "ename": "SyntaxError",
     "evalue": "invalid syntax (3858123133.py, line 1)",
     "output_type": "error",
     "traceback": [
      "\u001b[0;36m  Cell \u001b[0;32mIn[30], line 1\u001b[0;36m\u001b[0m\n\u001b[0;31m    ϵ_x =\u001b[0m\n\u001b[0m          ^\u001b[0m\n\u001b[0;31mSyntaxError\u001b[0m\u001b[0;31m:\u001b[0m invalid syntax\n"
     ]
    }
   ],
   "source": [
    "ϵ_x = \n",
    "\n",
    "θ ="
   ]
  },
  {
   "cell_type": "code",
   "execution_count": null,
   "id": "598c2785",
   "metadata": {
    "collapsed": false,
    "jupyter": {
     "outputs_hidden": false
    }
   },
   "outputs": [],
   "source": [
    "V_s =\n",
    "\n",
    "V_c =\n",
    "\n",
    "V_r = min"
   ]
  },
  {
   "cell_type": "code",
   "execution_count": null,
   "id": "d686c9eb",
   "metadata": {
    "collapsed": false,
    "jupyter": {
     "outputs_hidden": false
    }
   },
   "outputs": [],
   "source": []
  },
  {
   "cell_type": "markdown",
   "id": "0add9ab1",
   "metadata": {
    "collapsed": false,
    "jupyter": {
     "outputs_hidden": false
    }
   },
   "source": [
    "# 8. Serviceability Limit States Checks"
   ]
  },
  {
   "cell_type": "markdown",
   "id": "45aa2161",
   "metadata": {
    "collapsed": false,
    "jupyter": {
     "outputs_hidden": false
    }
   },
   "source": [
    "## 8.1 Cracking"
   ]
  },
  {
   "cell_type": "code",
   "execution_count": null,
   "id": "5dcc71ca",
   "metadata": {
    "collapsed": false,
    "jupyter": {
     "outputs_hidden": false
    }
   },
   "outputs": [],
   "source": []
  },
  {
   "cell_type": "markdown",
   "id": "c89a549d",
   "metadata": {
    "collapsed": false,
    "jupyter": {
     "outputs_hidden": false
    }
   },
   "source": [
    "# 9. Other Checks"
   ]
  },
  {
   "cell_type": "markdown",
   "id": "6c1c5b41",
   "metadata": {
    "collapsed": false,
    "jupyter": {
     "outputs_hidden": false
    }
   },
   "source": [
    "# 10. Conclusions"
   ]
  }
 ],
 "metadata": {
  "kernelspec": {
   "display_name": "Python 3 (ipykernel)",
   "language": "python",
   "name": "python3"
  },
  "language_info": {
   "codemirror_mode": {
    "name": "ipython",
    "version": 3
   },
   "file_extension": ".py",
   "mimetype": "text/x-python",
   "name": "python",
   "nbconvert_exporter": "python",
   "pygments_lexer": "ipython3",
   "version": "3.11.2"
  },
  "name": "Jupyter-example-design-note_PA.ipynb"
 },
 "nbformat": 4,
 "nbformat_minor": 5
}
